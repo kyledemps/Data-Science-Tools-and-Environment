{
 "cells": [
  {
   "cell_type": "markdown",
   "id": "2f2dd0c3-dde6-403f-ab92-2fc3443d3eb1",
   "metadata": {},
   "source": [
    "# Data Science Tools and Ecosystem"
   ]
  },
  {
   "cell_type": "markdown",
   "id": "75de5d29-39f3-4f19-a00d-e707c6eac3b3",
   "metadata": {},
   "source": [
    "In this notebook, Data Science Tools and Ecosystem are summarized."
   ]
  },
  {
   "cell_type": "markdown",
   "id": "c70efc5d-41bc-4c7a-bf82-d2272e6c5f99",
   "metadata": {
    "tags": []
   },
   "source": [
    "Objectives:\n",
    "    \n",
    " - list data science languages\n",
    " - list data science libraries\n",
    " - list data science tools\n",
    " - familiarize yourself with Jupyter Notebook"
   ]
  },
  {
   "cell_type": "markdown",
   "id": "646545ed-fa2f-436b-8c8b-bf65fd4ff56d",
   "metadata": {
    "tags": []
   },
   "source": [
    "Some of the popular languages that Data Scientists use are:\n",
    "    \n",
    "    1.Python\n",
    "    2.R\n",
    "    3.SQL"
   ]
  },
  {
   "cell_type": "markdown",
   "id": "f0cd7ca2-f66d-42ae-b59d-b025a97e0429",
   "metadata": {},
   "source": [
    "Some of the commonly used libraries used by Data Scientists include:\n",
    "    \n",
    "    1.Scikit-learn\n",
    "    2.TensorFlow\n",
    "    3.PyTorch"
   ]
  },
  {
   "cell_type": "markdown",
   "id": "6a2bd96f-e5fd-4cc6-8d93-2085a2538951",
   "metadata": {},
   "source": [
    "|Data Science Tools|\n",
    "|------------------|\n",
    "|RStudio|\n",
    "|ApacheSpark|\n",
    "|TensorFlow|"
   ]
  },
  {
   "cell_type": "markdown",
   "id": "1bdb1f78-79f6-4d61-8bcd-99929bd88afe",
   "metadata": {},
   "source": [
    "### Below are a few examples of evaluating arithmetic expressions in Python"
   ]
  },
  {
   "cell_type": "code",
   "execution_count": 2,
   "id": "c2f603ce-4ccb-4225-8aca-d7fcfa6a149d",
   "metadata": {
    "tags": []
   },
   "outputs": [
    {
     "data": {
      "text/plain": [
       "17"
      ]
     },
     "execution_count": 2,
     "metadata": {},
     "output_type": "execute_result"
    }
   ],
   "source": [
    "#This a simple arithmetic expression to mutiply then add integers\n",
    "(3*4)+5"
   ]
  },
  {
   "cell_type": "code",
   "execution_count": 4,
   "id": "6a7305ad-e588-4834-88be-41399f1fa88c",
   "metadata": {
    "tags": []
   },
   "outputs": [
    {
     "name": "stdout",
     "output_type": "stream",
     "text": [
      "200 minutes is 3.3333333333333335 hours\n"
     ]
    }
   ],
   "source": [
    "#This will convert 200 minutes to hours by diving by 60\n",
    "minutes = 200\n",
    "hours = minutes/60\n",
    "print(str(minutes)+' minutes is '+str(hours)+' hours')"
   ]
  },
  {
   "cell_type": "markdown",
   "id": "519e1884-5849-415f-a053-fd68343614bf",
   "metadata": {},
   "source": [
    "## Author\n",
    "Kyle Dempsey"
   ]
  },
  {
   "cell_type": "code",
   "execution_count": null,
   "id": "044341c1-bbdd-4590-a987-2cdf74c51a58",
   "metadata": {},
   "outputs": [],
   "source": []
  }
 ],
 "metadata": {
  "kernelspec": {
   "display_name": "Python",
   "language": "python",
   "name": "conda-env-python-py"
  },
  "language_info": {
   "codemirror_mode": {
    "name": "ipython",
    "version": 3
   },
   "file_extension": ".py",
   "mimetype": "text/x-python",
   "name": "python",
   "nbconvert_exporter": "python",
   "pygments_lexer": "ipython3",
   "version": "3.7.12"
  }
 },
 "nbformat": 4,
 "nbformat_minor": 5
}
